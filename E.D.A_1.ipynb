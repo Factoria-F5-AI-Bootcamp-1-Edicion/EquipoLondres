{
 "cells": [
  {
   "cell_type": "markdown",
   "id": "d067b930-778e-4043-b917-99dc4fdb6a60",
   "metadata": {},
   "source": [
    "# London Airbnb Dataset EDA\n",
    "___"
   ]
  },
  {
   "cell_type": "markdown",
   "id": "19ec088a-cb73-4f38-833a-6439a4108991",
   "metadata": {},
   "source": [
    "### Importación de librerías"
   ]
  },
  {
   "cell_type": "code",
   "execution_count": null,
   "id": "5e597703-bd3c-4c23-8a98-855f4f5bdcb4",
   "metadata": {},
   "outputs": [],
   "source": [
    "# Librerías de análisis de datos\n",
    "import numpy as np\n",
    "import pandas as pd\n",
    "\n",
    "# Librerías de visualización\n",
    "import matplotlib.pyplot as plt\n",
    "import seaborn as sns"
   ]
  },
  {
   "cell_type": "markdown",
   "id": "7283a7b8-9ce0-407a-ba0b-0bd29ca1f646",
   "metadata": {},
   "source": [
    "### Exploración básica del dataset"
   ]
  },
  {
   "cell_type": "markdown",
   "id": "834c3c0c-08ea-47d4-a86b-c935f9c70808",
   "metadata": {},
   "source": [
    "Estas son las variables por entrada que contiene el dataset:\n",
    "+ **id**: número de identificación de la publicación del alojamiento.\n",
    "+ **name**: nombre de la publicación del alojamiento. \n",
    "+ **host_id**: número de identificación del anfitrión.\n",
    "+ **host_name**: nombre del anfitrión.\n",
    "+ **neighbourhood_group**: grupo de barrios.\n",
    "+ **neighbourhood**:barrio o vecindario. \n",
    "+ **latitude**: latitud de la ubicación del alojamiento.\n",
    "+ **longitude**:longitud de la ubicación del alojamiento.\n",
    "+ **room_type**: tipo de habitación.\n",
    "+ **price**: precio.\n",
    "+ **minimum_nights**: noches mínimas.\n",
    "+ **number_of_reviews**: cuantas personas han revisado el anuncio.\n",
    "+ **last_review**: última revisión de la publicación.\n",
    "+ **reviews_per_month**: promedio de revisión por mes.\n",
    "+ **calculated_host_listings_count**: recuento de host calculados por un propietario/a.\n",
    "+ **availability_365**: disponibilidad en los 365 días. "
   ]
  },
  {
   "cell_type": "code",
   "execution_count": null,
   "id": "3188a202-9a20-4ea2-aee5-c487ab4b2329",
   "metadata": {},
   "outputs": [],
   "source": [
    "# Una variable para la ruta, buenas prácticas\n",
    "path_to_data = \"./london_airbnb.csv\"\n",
    "\n",
    "# Importamos el dataset y comprobamos que está correcto\n",
    "df = pd.read_csv(path_to_data)\n",
    "df.head()"
   ]
  },
  {
   "cell_type": "code",
   "execution_count": null,
   "id": "5ebd894b-8bf1-4fc3-ae57-da5308134672",
   "metadata": {},
   "outputs": [],
   "source": [
    "# Se muestran las últimas entradas.\n",
    "df.tail()"
   ]
  },
  {
   "cell_type": "code",
   "execution_count": null,
   "id": "5638bd74-f283-40a0-a131-336533ea49c7",
   "metadata": {},
   "outputs": [],
   "source": [
    "#Cantidad de entradas y columnas. \n",
    "df.shape"
   ]
  },
  {
   "cell_type": "markdown",
   "id": "ddf6dbc7-ee74-4c61-980a-b45de08af056",
   "metadata": {},
   "source": [
    "Se observa: \n",
    "+ 16 columnas. \n",
    "+ 85068 entradas."
   ]
  },
  {
   "cell_type": "code",
   "execution_count": null,
   "id": "12954e1c-5fd6-49e9-8547-b3e1146388d8",
   "metadata": {},
   "outputs": [],
   "source": [
    "# Información sobre el dataset\n",
    "df.info()"
   ]
  },
  {
   "cell_type": "markdown",
   "id": "9d4c850e-429b-4db8-aae1-d109b441b650",
   "metadata": {},
   "source": [
    "Se observa:\n",
    "+ La columna \"neighbourhood_group\" se encuentra vacía por lo que no se considerará por falta de datos.\n",
    "+ EL resto de columnas, en su mayoría, se encuentran completas. A excepción de las columnas: reviews_per_month, last_review, name y host_name."
   ]
  },
  {
   "cell_type": "code",
   "execution_count": null,
   "id": "4ed9538b-e994-4784-b459-732114ba5bbb",
   "metadata": {},
   "outputs": [],
   "source": [
    "#Conteo de datos faltantes por columna. \n",
    "df.isnull().sum(axis = 0)"
   ]
  },
  {
   "cell_type": "markdown",
   "id": "442b7330-546d-40db-ba6f-b94061309cf3",
   "metadata": {},
   "source": [
    "Se observa:\n",
    "+ Las columnas con más datos faltantes son last_review y reviews_per_month, la cantidad es significativa. "
   ]
  },
  {
   "cell_type": "markdown",
   "id": "d35317b1-5c4a-44d2-abad-05bd7904b3d4",
   "metadata": {},
   "source": [
    "### Creación de nueva tabla\n",
    "___"
   ]
  },
  {
   "cell_type": "code",
   "execution_count": null,
   "id": "0483ebc3-ed0a-4706-8c63-a0764a4208a5",
   "metadata": {},
   "outputs": [],
   "source": [
    "# Creando nueva tabla \"df_londres\" descartando columnas:\n",
    "df_londres = df.drop(columns=[\"neighbourhood_group\",\"id\", \"name\",\"host_id\",\"host_name\"])\n",
    "df_londres.head()"
   ]
  },
  {
   "cell_type": "code",
   "execution_count": null,
   "id": "58dd2478-4547-4764-9cda-ac6f777c10c0",
   "metadata": {},
   "outputs": [],
   "source": [
    "# Se comprueba la eliminación de columnas.\n",
    "df_londres.shape"
   ]
  },
  {
   "cell_type": "markdown",
   "id": "ae3913b9-ace8-405d-87c3-be5561d71f8a",
   "metadata": {},
   "source": [
    "Se observa:\n",
    "+ Se redujo de 16 a 11 columnas."
   ]
  },
  {
   "cell_type": "code",
   "execution_count": null,
   "id": "b5ed8e90-82ef-4c92-820c-7f5b31b26e10",
   "metadata": {},
   "outputs": [],
   "source": [
    "# Información de nueva tabla \"df_londres\":\n",
    "df_londres.info()"
   ]
  },
  {
   "cell_type": "code",
   "execution_count": null,
   "id": "194bf043-8fd1-4c2f-96ef-cf1f9514d048",
   "metadata": {},
   "outputs": [],
   "source": [
    "# Datos faltantes en porcentaje ordenado de mayor a menor.\n",
    "df_londres.isnull().mean().sort_values(ascending = False)"
   ]
  },
  {
   "cell_type": "markdown",
   "id": "afdd8c00-b460-44ed-be76-ac52ded1738c",
   "metadata": {},
   "source": [
    "Se observa:\n",
    "+ Falta de datos en las columnas last_review y reviews_per_month. Mismo porcentaje= 23.5177%."
   ]
  },
  {
   "cell_type": "code",
   "execution_count": null,
   "id": "d6ab77cc-5f3f-420d-9f7b-e18ae9240827",
   "metadata": {},
   "outputs": [],
   "source": [
    "# Identificación de variables:\n",
    "categoricas = [\"neighbourhood\", \"room_type\", \"last_review\"]\n",
    "numericas = [\"latitude\", \"longitude\", \"price\", \"minimum_nights\", \"number_of_reviews\", \"reviews_per_month\", \"calculated_host_listings_count\", \"availability_365\"]"
   ]
  },
  {
   "cell_type": "markdown",
   "id": "11de0c2e-1d37-4c2e-945b-49c0df92ff5a",
   "metadata": {},
   "source": [
    "### Hipótesis y gráficas\n",
    "\n",
    "Objetivo: análisis de datos y predicción para alquileres de pisos y habitaciones con fines vacacionales. \n",
    "___"
   ]
  },
  {
   "cell_type": "markdown",
   "id": "8c0aef9b-3052-4815-a661-769950ed9fdb",
   "metadata": {},
   "source": [
    "+ De acuerdo al \"neighbourhood\" y al \"type_room\" varía el precio de los alojamientos. \n",
    "+ De acuerdo al \"number_of_reviews\" y \"reviews_per_month\" se determina los sitios más visitados/solicitados.\n",
    "+ De acuerdo a la longitud y latitud se puede determinar la ubicación de los alojamientos y el clima (N/S).\n",
    "+ De acuerdo a la \"availability_365\" y al \"price\" se puede determinar la exclusividad del alojamiento. \n",
    "+ De acuerdo a las últimas revisiones y el precio se puede determinar las temporadas altas de alojamiento con su precio."
   ]
  },
  {
   "cell_type": "code",
   "execution_count": null,
   "id": "626e4e8c-4ddc-4efc-a668-f2fadc480c4c",
   "metadata": {},
   "outputs": [],
   "source": [
    "sns.catplot(x ='price', hue ='availability_365', kind ='count', col ='neighbourhood', data = df_londres)"
   ]
  },
  {
   "cell_type": "code",
   "execution_count": null,
   "id": "69073c1e-59e8-4fbd-b733-029c3daa4312",
   "metadata": {},
   "outputs": [],
   "source": [
    "pd.plotting.scatter_matrix(df_londres[numericas], figsize=(12,8))"
   ]
  },
  {
   "cell_type": "code",
   "execution_count": null,
   "id": "64a8bb0b-ed65-4ce5-af9d-60cf66fefb30",
   "metadata": {},
   "outputs": [],
   "source": [
    "#Vecindarios más visitados\n",
    "plt.pie(df_londres[\"neighbourhood\"].value_counts())"
   ]
  },
  {
   "cell_type": "code",
   "execution_count": null,
   "id": "b8e897b1-2060-4e77-8c9c-408711442a7e",
   "metadata": {},
   "outputs": [],
   "source": [
    "#De acuerdo al vecindario se estima el precio del alojamiento. \n",
    "sns.relplot(x=\"neighbourhood\", y=\"price\", ci=None, kind=\"line\", data=df_londres, aspect=2, height=20)"
   ]
  },
  {
   "cell_type": "markdown",
   "id": "27c42b4e-9f06-4049-98de-6a232b6ca085",
   "metadata": {},
   "source": [
    "Se observa:\n",
    "+ Los alojamientos que se aproximan a los 220 por noche se encuentran en Lambeth,Islington, Kensington y Chelsea, Westminster y Wandsworth.\n",
    "+ Los alojamientos que se aproximan a los 200 por noche se encuentran en Enfield, City of London y Greenwich.\n",
    "+ En el resto de lugares el costo de alojamiento se encuentran en el rango de 60 a 160 por noche."
   ]
  },
  {
   "cell_type": "code",
   "execution_count": null,
   "id": "3780e8bb-a650-4b2b-8ac4-af70eadf7888",
   "metadata": {},
   "outputs": [],
   "source": [
    "#De acuerdo al tipo de habitación se estima el precio del alojamiento. \n",
    "sns.relplot(x=\"room_type\", y=\"price\", ci=None, kind=\"line\", data=df_londres, aspect=3, height=4)"
   ]
  },
  {
   "cell_type": "markdown",
   "id": "e8f72019-304c-4004-9914-5eafabd4f845",
   "metadata": {},
   "source": [
    "Se observa:\n",
    "+ Las habitaciones de hotel son de mayor costo y le sigue los alquileres de casa o apartamento.\n",
    "+ Mientras las habitaciones compartidas o privadas son de menor costo. "
   ]
  },
  {
   "cell_type": "code",
   "execution_count": null,
   "id": "e9db9376-aeaa-4a82-adee-ba5ed3c8a87a",
   "metadata": {},
   "outputs": [],
   "source": [
    "sns.scatterplot(data=df_londres, x=\"neighbourhood\", y=\"price\")"
   ]
  },
  {
   "cell_type": "code",
   "execution_count": null,
   "id": "eef45c35-cbc4-4db5-9458-4d3ba9d8bb49",
   "metadata": {},
   "outputs": [],
   "source": [
    "df[numericas].hist(bins=50, figsize=(20,15))"
   ]
  },
  {
   "cell_type": "code",
   "execution_count": null,
   "id": "1fdc207c-298e-4750-a1b3-9de21fca4987",
   "metadata": {},
   "outputs": [],
   "source": [
    "sns.catplot(x ='price', hue ='room_type', kind ='count', col ='neighbourhood', data = df)"
   ]
  },
  {
   "cell_type": "code",
   "execution_count": null,
   "id": "48a58387-c6e8-4816-a564-b6dd6cb12422",
   "metadata": {},
   "outputs": [],
   "source": [
    "sns.catplot(x=\"number_of_reviews\", y=\"price\", data=df_londres, kind=\"bar\", aspect=3, height=6)\n",
    "plt.xticks(rotation=90)\n",
    "plt.grid(axis='x')\n",
    "plt.grid(axis='y')\n",
    "plt.show()"
   ]
  },
  {
   "cell_type": "code",
   "execution_count": null,
   "id": "5bef49ef-e93e-4c94-be17-67d783d4aaf3",
   "metadata": {},
   "outputs": [],
   "source": [
    "sns.catplot(x=\"availability_365\", y=\"price\", data=df_londres, kind=\"bar\", aspect=3, height=6)\n",
    "plt.xticks(rotation=90)\n",
    "plt.grid(axis='x')\n",
    "plt.grid(axis='y')\n",
    "plt.show()"
   ]
  },
  {
   "cell_type": "code",
   "execution_count": null,
   "id": "603b3a20-a4c6-4b9d-811e-d30afc94dee7",
   "metadata": {},
   "outputs": [],
   "source": [
    "sns.scatterplot(data=df_londres, x=\"latitude\", y=\"longitude\", hue=\"neighbourhood\")"
   ]
  },
  {
   "cell_type": "code",
   "execution_count": null,
   "id": "193ab492-4a00-48a2-8176-9fbd92f262e7",
   "metadata": {},
   "outputs": [],
   "source": []
  }
 ],
 "metadata": {
  "kernelspec": {
   "display_name": "Python 3 (ipykernel)",
   "language": "python",
   "name": "python3"
  },
  "language_info": {
   "codemirror_mode": {
    "name": "ipython",
    "version": 3
   },
   "file_extension": ".py",
   "mimetype": "text/x-python",
   "name": "python",
   "nbconvert_exporter": "python",
   "pygments_lexer": "ipython3",
   "version": "3.10.4"
  }
 },
 "nbformat": 4,
 "nbformat_minor": 5
}
