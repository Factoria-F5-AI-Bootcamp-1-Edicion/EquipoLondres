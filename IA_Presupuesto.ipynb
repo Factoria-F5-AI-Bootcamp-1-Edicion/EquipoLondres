{
 "cells": [
  {
   "cell_type": "markdown",
   "metadata": {},
   "source": [
    "#PRECIO"
   ]
  },
  {
   "cell_type": "markdown",
   "metadata": {},
   "source": []
  },
  {
   "cell_type": "code",
   "execution_count": null,
   "metadata": {},
   "outputs": [
    {
     "ename": "",
     "evalue": "",
     "output_type": "error",
     "traceback": [
      "\u001b[1;31mNo se pudo iniciar el Kernel. \n",
      "\u001b[1;31mTraceback (most recent call last):\n",
      "\u001b[1;31m  File \"/home/batou/.vscode/extensions/ms-toolsai.jupyter-2022.8.1002431955/pythonFiles/vscode_datascience_helpers/daemon/daemon_python.py\", line 54, in _decorator\n",
      "\u001b[1;31m    return func(self, *args, **kwargs)\n",
      "\u001b[1;31m  File \"/home/batou/.vscode/extensions/ms-toolsai.jupyter-2022.8.1002431955/pythonFiles/vscode_datascience_helpers/jupyter_daemon.py\", line 111, in m_exec_module_observable\n",
      "\u001b[1;31m    self._start_notebook(args, cwd, env)\n",
      "\u001b[1;31m  File \"/home/batou/.vscode/extensions/ms-toolsai.jupyter-2022.8.1002431955/pythonFiles/vscode_datascience_helpers/jupyter_daemon.py\", line 167, in _start_notebook\n",
      "\u001b[1;31m    with change_exec_context(args, cwd, env):\n",
      "\u001b[1;31m  File \"/home/batou/.conda/envs/Car/lib/python3.10/contextlib.py\", line 135, in __enter__\n",
      "\u001b[1;31m    return next(self.gen)\n",
      "\u001b[1;31m  File \"/home/batou/.vscode/extensions/ms-toolsai.jupyter-2022.8.1002431955/pythonFiles/vscode_datascience_helpers/daemon/daemon_python.py\", line 35, in change_exec_context\n",
      "\u001b[1;31m    old_cwd = os.getcwd()\n",
      "\u001b[1;31mFileNotFoundError: [Errno 2] No such file or directory\n",
      "\u001b[1;31m\n",
      "\u001b[1;31mFailed to run jupyter as observable with args notebook --no-browser --notebook-dir=\"/home/batou/app/Londres_airbnb\" --config=/tmp/0ccc1943-2ec0-44d5-9765-0c3ea1548752/jupyter_notebook_config.py --NotebookApp.iopub_data_rate_limit=10000000000.0. \n",
      "\u001b[1;31mVea el [registro] de Jupyter (command:jupyter.viewOutput) para obtener más detalles."
     ]
    }
   ],
   "source": [
    "import pandas as pd\n",
    "import numpy as np\n",
    "import matplotlib.pyplot as plt"
   ]
  },
  {
   "cell_type": "code",
   "execution_count": null,
   "metadata": {},
   "outputs": [
    {
     "ename": "",
     "evalue": "",
     "output_type": "error",
     "traceback": [
      "\u001b[1;31mNo se pudo iniciar el Kernel. \n",
      "\u001b[1;31mTraceback (most recent call last):\n",
      "\u001b[1;31m  File \"/home/batou/.vscode/extensions/ms-toolsai.jupyter-2022.8.1002431955/pythonFiles/vscode_datascience_helpers/daemon/daemon_python.py\", line 54, in _decorator\n",
      "\u001b[1;31m    return func(self, *args, **kwargs)\n",
      "\u001b[1;31m  File \"/home/batou/.vscode/extensions/ms-toolsai.jupyter-2022.8.1002431955/pythonFiles/vscode_datascience_helpers/jupyter_daemon.py\", line 111, in m_exec_module_observable\n",
      "\u001b[1;31m    self._start_notebook(args, cwd, env)\n",
      "\u001b[1;31m  File \"/home/batou/.vscode/extensions/ms-toolsai.jupyter-2022.8.1002431955/pythonFiles/vscode_datascience_helpers/jupyter_daemon.py\", line 167, in _start_notebook\n",
      "\u001b[1;31m    with change_exec_context(args, cwd, env):\n",
      "\u001b[1;31m  File \"/home/batou/.conda/envs/Car/lib/python3.10/contextlib.py\", line 135, in __enter__\n",
      "\u001b[1;31m    return next(self.gen)\n",
      "\u001b[1;31m  File \"/home/batou/.vscode/extensions/ms-toolsai.jupyter-2022.8.1002431955/pythonFiles/vscode_datascience_helpers/daemon/daemon_python.py\", line 35, in change_exec_context\n",
      "\u001b[1;31m    old_cwd = os.getcwd()\n",
      "\u001b[1;31mFileNotFoundError: [Errno 2] No such file or directory\n",
      "\u001b[1;31m\n",
      "\u001b[1;31mFailed to run jupyter as observable with args notebook --no-browser --notebook-dir=\"/home/batou/app/Londres_airbnb\" --config=/tmp/0ccc1943-2ec0-44d5-9765-0c3ea1548752/jupyter_notebook_config.py --NotebookApp.iopub_data_rate_limit=10000000000.0. \n",
      "\u001b[1;31mVea el [registro] de Jupyter (command:jupyter.viewOutput) para obtener más detalles."
     ]
    }
   ],
   "source": [
    "df = pd.read_csv(\"london_airbnb.csv\")\n",
    "df.head()"
   ]
  }
 ],
 "metadata": {
  "kernelspec": {
   "display_name": "Python 3.10.4 ('equipolondres')",
   "language": "python",
   "name": "python3"
  },
  "language_info": {
   "name": "python",
   "version": "3.10.4"
  },
  "orig_nbformat": 4,
  "vscode": {
   "interpreter": {
    "hash": "755abaae7180328161f45751ec95335f09e6e54d335aef3065adccbd9ca1b365"
   }
  }
 },
 "nbformat": 4,
 "nbformat_minor": 2
}
